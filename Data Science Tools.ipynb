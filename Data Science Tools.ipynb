{
 "cells": [
  {
   "cell_type": "markdown",
   "id": "7b4c5073-ba15-44ef-939b-9ce48db188b0",
   "metadata": {},
   "source": [
    "Data Science Tools"
   ]
  },
  {
   "cell_type": "markdown",
   "id": "380ee6d9-80e8-42be-897a-efe7214817d4",
   "metadata": {},
   "source": [
    "## Introduction\n",
    "\n",
    "In this notebook, we will explore various data science tools and techniques used for data analysis and machine learning. We will cover the essential steps including data loading, cleaning, visualization, and model building. By the end of this notebook, you will have a better understanding of how to apply these tools to your own data science projects.\n"
   ]
  },
  {
   "cell_type": "markdown",
   "id": "7af51b47-8b18-4a2a-b881-148ec3974e63",
   "metadata": {},
   "source": [
    "## Data Science Languages\n",
    "\n",
    "The following programming languages are commonly used in data science:\n",
    "\n",
    "- Python\n",
    "- R\n",
    "- SQL\n",
    "- Julia\n",
    "- Java\n",
    "- Scala\n",
    "- MATLAB\n",
    "- SAS\n"
   ]
  },
  {
   "cell_type": "markdown",
   "id": "33687bb2-4faf-4004-9722-b38e4a1e8b74",
   "metadata": {},
   "source": [
    "## Data Science Libraries\n",
    "\n",
    "The following libraries are widely used in data science:\n",
    "\n",
    "- **Python Libraries**:\n",
    "  - NumPy\n",
    "  - pandas\n",
    "  - Matplotlib\n",
    "  - Seaborn\n",
    "  - SciPy\n",
    "  \n",
    "- **R Libraries**:\n",
    "  - ggplot2\n",
    "  - dplyr\n",
    "  - tidyr\n",
    "  - readr\n",
    "  - caret\n",
    "\n",
    "- **SQL Libraries**:\n",
    "  - SQLite\n",
    "  - MySQL\n",
    "  - PostgreSQL\n",
    "\n",
    "- **Other Libraries**:\n",
    "  - Apache Spark (PySpark, SparkR)\n",
    "  - Hadoop\n"
   ]
  },
  {
   "cell_type": "markdown",
   "id": "8d489ec7-9f3d-4fc6-9099-82be7d4638bf",
   "metadata": {},
   "source": [
    "## Data Science Tools\n",
    "\n",
    "| Tool          | Description                                      |\n",
    "|---------------|--------------------------------------------------|\n",
    "| Jupyter       | An open-source web application for creating and sharing documents that contain live code, equations, visualizations, and narrative text. |\n",
    "| RStudio       | An integrated development environment for R.     |\n",
    "| Apache Hadoop | A framework that allows for the distributed processing of large data sets across clusters of computers using simple programming models. |\n",
    "| Apache Spark  | An open-source unified analytics engine for big data processing, with built-in modules for streaming, SQL, machine learning, and graph processing. |\n",
    "| TensorFlow    | An open-source platform for machine learning.    |\n",
    "| Tableau       | A visual analytics platform transforming the way we use data to solve problems. |\n",
    "| Power BI      | A business analytics service by Microsoft that provides interactive visualizations and business intelligence capabilities. |\n"
   ]
  },
  {
   "cell_type": "markdown",
   "id": "7d7e3f28-fbb0-4b4f-8f86-20ed47dcb652",
   "metadata": {},
   "source": [
    "## Arithmetic Expression Examples\r\n",
    "\r\n",
    "In this section, we will demonstrate basic arithmetic operations such as addition, subtraction, multiplication, and division using Python code.\r\n"
   ]
  },
  {
   "cell_type": "code",
   "execution_count": 2,
   "id": "364e6024-d8af-491d-912e-dbce19f3e99f",
   "metadata": {},
   "outputs": [
    {
     "name": "stdout",
     "output_type": "stream",
     "text": [
      "Product of 7 and 8 is: 56\n",
      "Sum of 15 and 25 is: 40\n"
     ]
    }
   ],
   "source": [
    "#Create a code cell to multiply and add numbers \n",
    "# Multiplication\n",
    "product = 7 * 8\n",
    "print(\"Product of 7 and 8 is:\", product)\n",
    "\n",
    "# Addition\n",
    "sum_result = 15 + 25\n",
    "print(\"Sum of 15 and 25 is:\", sum_result)\n"
   ]
  },
  {
   "cell_type": "code",
   "execution_count": 3,
   "id": "17551da8-79af-4a0f-b6cf-4e754ac57e7d",
   "metadata": {},
   "outputs": [
    {
     "name": "stdout",
     "output_type": "stream",
     "text": [
      "120 minutes is equal to 2.0 hours\n"
     ]
    }
   ],
   "source": [
    "#Create a code cell to convert minutes to hours\n",
    "# Conversion of minutes to hours\n",
    "minutes = 120\n",
    "hours = minutes / 60\n",
    "print(\"120 minutes is equal to\", hours, \"hours\")\n"
   ]
  },
  {
   "cell_type": "markdown",
   "id": "8a2edc47-3d61-47f3-b911-a4692d185320",
   "metadata": {},
   "source": [
    "## List Objectives\n",
    "\n",
    "- Understand the basics of data science tools and languages.\n",
    "- Learn to use various data science libraries for data manipulation and analysis.\n",
    "- Demonstrate arithmetic operations in Python.\n",
    "- Convert time units from minutes to hours using Python code.\n",
    "- Gain hands-on experience with markdown and code cells in Jupyter Notebook.\n"
   ]
  },
  {
   "cell_type": "markdown",
   "id": "55484cf0-6caf-4ed6-b1cc-a103facd012f",
   "metadata": {},
   "source": [
    "## Author Name\n",
    "Kshitija Karpe\n"
   ]
  },
  {
   "cell_type": "code",
   "execution_count": null,
   "id": "b2134568-07e1-44d5-b7cf-a810a1764e56",
   "metadata": {},
   "outputs": [],
   "source": []
  }
 ],
 "metadata": {
  "kernelspec": {
   "display_name": "Python 3 (ipykernel)",
   "language": "python",
   "name": "python3"
  },
  "language_info": {
   "codemirror_mode": {
    "name": "ipython",
    "version": 3
   },
   "file_extension": ".py",
   "mimetype": "text/x-python",
   "name": "python",
   "nbconvert_exporter": "python",
   "pygments_lexer": "ipython3",
   "version": "3.11.7"
  }
 },
 "nbformat": 4,
 "nbformat_minor": 5
}
